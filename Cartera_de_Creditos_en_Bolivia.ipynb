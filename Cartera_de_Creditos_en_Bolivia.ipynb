{
 "cells": [
  {
   "cell_type": "markdown",
   "id": "1ce2bfb8-efb3-48dc-9f4f-e52f195c70a5",
   "metadata": {},
   "source": [
    "# Créditos a unidades económicas en Bolivia"
   ]
  },
  {
   "cell_type": "markdown",
   "id": "8f8a2979-046c-4623-8e34-c096dc651739",
   "metadata": {},
   "source": [
    "> Creación de una base de datos de créditos a través de 179 municipios y 600 actividades económicas entre 2012 y 2021."
   ]
  },
  {
   "cell_type": "markdown",
   "id": "382fa42b-d25e-4c10-888d-e3ffa3519b93",
   "metadata": {
    "tags": []
   },
   "source": [
    "## Contexto"
   ]
  },
  {
   "cell_type": "code",
   "execution_count": 5,
   "id": "cfc510b3-d8d6-4a28-aac2-485100dec827",
   "metadata": {},
   "outputs": [],
   "source": [
    "# Funciones de ayuda para mostrar información de forma elegante\n",
    "\n",
    "from IPython.display import clear_output, display, Markdown\n",
    "\n",
    "repo_name = 'cartera_de_creditos_en_bolivia'\n",
    "\n",
    "def md(text):\n",
    "    display(Markdown(text))\n",
    "    \n",
    "def caption(text):\n",
    "    display(Markdown('<p class=\"caption\"> <em>{}</em> </p>'.format(text)))\n",
    "    \n",
    "def datalink(filename):\n",
    "    base = 'https://github.com/mauforonda/{}/blob/master/data/'.format(repo_name)\n",
    "    return \"<a class='datalink' href={b}{f}>{f}</a>\".format(b=base, f=filename)"
   ]
  },
  {
   "cell_type": "markdown",
   "id": "5d2e0d73-6f25-49cd-b35f-4dd33c1259c2",
   "metadata": {
    "citation-manager": {
     "citations": {
      "25seh": [
       {
        "id": "11395374/7XDWFQ39",
        "source": "zotero"
       }
      ],
      "2oumi": [
       {
        "id": "11395374/I65DPXF8",
        "source": "zotero"
       }
      ],
      "e75td": [
       {
        "id": "11395374/W3AGH44T",
        "source": "zotero"
       }
      ],
      "v5lgi": [
       {
        "id": "11395374/IS3J849X",
        "source": "zotero"
       }
      ]
     }
    },
    "tags": []
   },
   "source": [
    "Cada mes, las Entidades de Intermediación Financiera reportan información del estado de sus carteras de crédito a la Autoridad de Supervisión del Sistema Financiero (ASFI) <cite id=\"e75td\">(Autoridad de Supervisión del Sistema Financiero, 2021)</cite>. El envío se realiza electrónicamente mediante el Sistema de Captura de Información Periódica (SCIP) <cite id=\"2oumi\">(Autoridad de Supervisión del Sistema Financiero, 2021a)</cite> y es consolidado en la Central de Información Crediticia <cite id=\"v5lgi\">(Autoridad de Supervisión del Sistema Financiero, 2021c)</cite>. Luego de unas semanas, la Dirección de Análisis Productivo del Ministerio de Desarrollo Productivo y Economía Plural utiliza esta información para actualizar un tablero público en el Sistema Integrado de Información Productiva <cite id=\"25seh\">(Dirección de Análisis Productivo (DAPRO), Ministerio de Desarrollo Productivo y Economía Plural, 2021)</cite>. Específicamente, la información publicada consiste en \n",
    "\n",
    "- valores en Millones de Dólares Americanos del estado de la cartera de créditos vigente y el número de prestatarios a fin de año\n",
    "- por el municipio de otorgación de crédito, no la sucursal de la entidad financiera, \n",
    "- y la actividad económica de destino del crédito, no la actividad principal del prestatario, clasificada según la nomenclatura Código de Actividad Económica y Destino del Crédito (CAEDEC)\n",
    "- desde 2012 hasta 2021, para la cartera, y hasta 2019 para prestatarios"
   ]
  },
  {
   "cell_type": "markdown",
   "id": "00b739c2-cdee-48a0-a373-07d7a1ba06be",
   "metadata": {
    "tags": []
   },
   "source": [
    "## Producción"
   ]
  },
  {
   "cell_type": "markdown",
   "id": "3f03e6d7-9167-4c1e-a46c-93a39da2c66f",
   "metadata": {},
   "source": [
    "A continuación detallo las funciones y el proceso que utilizo para construir estos datos. El código está escrito en el lenguaje de programación python y corrió originalmente en un notebook Jupyter versión 6.4.0 sobre la versión 3.6.9 de python, en Ubuntu 18.04 con un kernel Linux 5.4. Sin embargo, ninguna operación en el código es específica a esta configuración y debería ser suficiente para reproducir los resultados en cualquier sistema GNU-Linux estándar con python 3."
   ]
  },
  {
   "cell_type": "markdown",
   "id": "3f2113e1-e1b0-4e05-b9db-2a2893a8a808",
   "metadata": {
    "tags": []
   },
   "source": [
    "### Funciones"
   ]
  },
  {
   "cell_type": "markdown",
   "id": "7c3198b1-f803-41f7-990d-1d15b5bb68aa",
   "metadata": {},
   "source": [
    "Dependencias:"
   ]
  },
  {
   "cell_type": "code",
   "execution_count": 2,
   "id": "04bd4712-5d00-4033-a686-d14da601d0e9",
   "metadata": {},
   "outputs": [],
   "source": [
    "import pandas as pd\n",
    "import requests\n",
    "from bs4 import BeautifulSoup\n",
    "import csv\n",
    "from IPython.display import clear_output\n",
    "pd.options.mode.chained_assignment = None"
   ]
  },
  {
   "cell_type": "markdown",
   "id": "f56798a5-e3bb-4df7-8d05-c5296be2f6b8",
   "metadata": {},
   "source": [
    "Funciones para descargar la lista de municipios:"
   ]
  },
  {
   "cell_type": "code",
   "execution_count": 2,
   "id": "3e9652f1-deef-43be-a193-72fad8f9f52a",
   "metadata": {},
   "outputs": [],
   "source": [
    "def download_opciones():\n",
    "    \"\"\"\n",
    "    Descarga listas de departamentos, actividades y complejos productivos\n",
    "    del tablero de créditos en el Sistema Integrado de Información Productiva\n",
    "    \"\"\"\n",
    "\n",
    "    response = requests.get(\"https://siip.produccion.gob.bo/repSIIP2/formAsfi.php\")\n",
    "    html = BeautifulSoup(response.text, \"html.parser\")\n",
    "\n",
    "    departamentos = [\n",
    "        {\"codigo\": option[\"value\"], \"nombre\": option.get_text()}\n",
    "        for option in html.select(\"select#departamento option\")\n",
    "        if option[\"value\"] != \"null\"\n",
    "    ]\n",
    "    actividades = [\n",
    "        option[\"value\"]\n",
    "        for option in html.select(\"select#actividad option\")\n",
    "        if option[\"value\"] != \"null\"\n",
    "    ]\n",
    "    complejos = [\n",
    "        {\"codigo\": option[\"value\"], \"nombre\": option.get_text()}\n",
    "        for option in html.select(\"select#complejo option\")\n",
    "        if option[\"value\"] != \"0\"\n",
    "    ]\n",
    "\n",
    "    return departamentos, actividades, complejos\n",
    "\n",
    "def download_municipios(departamentos):\n",
    "    \"\"\"\n",
    "    Descarga la tabla de municipios para una lista de departamentos, \n",
    "    donde cada departamento es un diccionario con dos llaves:\n",
    "    - codigo: el código del departamento, descargado mediante la función download_opciones\n",
    "    - nombre: el nombre del departamento\n",
    "    Retorna un dataframe\n",
    "    \"\"\"\n",
    "\n",
    "    municipios_departamento = []\n",
    "    for dep in departamentos:\n",
    "\n",
    "        data = {\"flag\": \"asfiMunicipiosXDepartamento\", \"departamento\": dep[\"codigo\"]}\n",
    "\n",
    "        response = requests.post(\n",
    "            \"https://siip.produccion.gob.bo/repSIIP2/JsonAjaxAsfi.php\", data=data\n",
    "        )\n",
    "\n",
    "        depdf = pd.DataFrame(response.json())\n",
    "        depdf.insert(0, \"cod_dep\", dep[\"codigo\"])\n",
    "        depdf.insert(0, \"desc_dep\", dep[\"nombre\"])\n",
    "\n",
    "        municipios_departamento.append(depdf)\n",
    "\n",
    "    return pd.concat(municipios_departamento)\n",
    "\n",
    "def format_municipios(municipios):\n",
    "    \"\"\"\n",
    "    Ordena el dataframe de municipios:\n",
    "    - se asegura que no existen entradas que repiten códigos\n",
    "    - construye el código INE en base al código del sistema\n",
    "    - desambigua municipios con el mismo nombre\n",
    "    Retorna un dataframe\n",
    "    \"\"\"\n",
    "\n",
    "    def ine(cod):\n",
    "        cod = str(cod).strip()\n",
    "        if len(cod) == 3:\n",
    "            return cod[0] + \"0\" + cod[1] + \"0\" + cod[2]\n",
    "        elif len(cod) == 4:\n",
    "            return cod[0:2] + cod[2] + \"0\" + cod[3]\n",
    "    \n",
    "    mun = municipios.copy()\n",
    "    mun = mun.drop_duplicates(subset=[\"cod_mun\"], keep=\"last\")\n",
    "\n",
    "    mun[\"desc_dep\"] = mun.desc_dep.str.title()\n",
    "\n",
    "    mun[\"cod_ine\"] = mun.cod_mun.apply(lambda x: ine(x)).astype(int)\n",
    "\n",
    "    reemplazos = {80102: \"San Javier (Beni)\", 80201: \"Riberalta\"}\n",
    "    for k in reemplazos.keys():\n",
    "        mun.loc[mun.cod_ine == k, \"desc_mun\"] = reemplazos[k]\n",
    "\n",
    "    return mun"
   ]
  },
  {
   "cell_type": "markdown",
   "id": "41e7e08f-273b-494e-a220-b71a8060350c",
   "metadata": {},
   "source": [
    "Funciones para descargar los datos:"
   ]
  },
  {
   "cell_type": "code",
   "execution_count": 71,
   "id": "51c46798-166c-46f8-95e0-08fd6772fd62",
   "metadata": {},
   "outputs": [],
   "source": [
    "def print_clear(text):\n",
    "    clear_output(wait=True)\n",
    "    print(text)\n",
    "\n",
    "def log(i0, i1, i2, i3, i4, i5, n0, n1, n2, n3, n4, n5):\n",
    "    \"\"\"\n",
    "    Muestra un indicador del estado de las descargas\n",
    "    \"\"\"\n",
    "    \n",
    "    print_clear(\n",
    "        \"municipio:{}/{}\\nactividad:{}/{}\\ncategoria:{}/{}\\ndivision:{}/{}\\ngrupo:{}/{}\\nclase:{}/{}\\n\".format(\n",
    "            i0 + 1, n0, i1 + 1, n1, i2 + 1, n2, i3 + 1, n3, i4 + 1, n4, i5 + 1, n5\n",
    "        )\n",
    "    )\n",
    "\n",
    "\n",
    "def get_item(\n",
    "    i0,\n",
    "    tabla,\n",
    "    nivel,\n",
    "    departamento,\n",
    "    municipio,\n",
    "    actividad=\"null\",\n",
    "    categoria=\"null\",\n",
    "    division=\"null\",\n",
    "    grupo=\"null\",\n",
    "    clase=\"null\",\n",
    "    subclase=\"null\",\n",
    "    tipo=\"resumen\",\n",
    "):\n",
    "    \"\"\"\n",
    "    Realiza una consulta de datos al tablero de créditos donde:\n",
    "    - i0: codigo del municipio para depuración\n",
    "    - tabla: cartera o prestatarios\n",
    "    - nivel: el nivel de la consulta\n",
    "    - departamento: código del departamento\n",
    "    - municipio: código del municipio\n",
    "    - actividad: código de la actividad\n",
    "    - categoría: código de la categoría\n",
    "    - división: código de la división\n",
    "    - grupo: código del grupo\n",
    "    - clase: código de la clase\n",
    "    - subclase: código de la subclase\n",
    "    - tipo: resumen (sólo los campos necesarios) o completo (todos los campos, para depuración)\n",
    "    Retorna una lista de diccionarios con datos de la consulta.\n",
    "    Si falla agrega información de la consulta y error a la lista `errores`,\n",
    "    que debe ser creada previamente en el scope global\n",
    "    \"\"\"\n",
    "    \n",
    "    url = \"https://siip.produccion.gob.bo/repSIIP2/JsonAjaxAsfi.php\"\n",
    "    data = {\n",
    "        \"flag\": \"asfiNiveles\",\n",
    "        \"complejo\": \"0\",\n",
    "        \"departamento\": departamento,\n",
    "        \"municipio\": municipio,\n",
    "        \"actividad\": actividad,\n",
    "        \"categoria\": categoria,\n",
    "        \"division\": division,\n",
    "        \"grupo\": grupo,\n",
    "        \"clase\": clase,\n",
    "        \"subclase\": subclase,\n",
    "        \"tabla\": tabla,\n",
    "        \"nivel\": nivel,\n",
    "    }\n",
    "    try:\n",
    "        response = requests.post(url, data=data, timeout=20)\n",
    "        if tipo == \"resumen\":\n",
    "            return [\n",
    "                {\"codigo\": i[\"codigo\"] if type(i[\"codigo\"]) == str else \"null\", \"name\": i[\"name\"].lower() if type(i[\"name\"]) == str else \"null\"}\n",
    "                for i in response.json()[\"datos\"]\n",
    "            ]\n",
    "        elif tipo == \"completo\":\n",
    "            return response.json()[\"datos\"]\n",
    "    except Exception as e:\n",
    "        errores.append({\"data\": data, \"error\": e, \"municipio\": i0, \"response\": response.json()[\"datos\"]})\n",
    "\n",
    "\n",
    "def get_data(municipio, tabla, i0, munlen):\n",
    "    \"\"\"\n",
    "    Descarga datos para un municipio y tabla recorriendo iterativamente \n",
    "    el árbol de niveles de actividades.\n",
    "    - municipio: el código del municipio\n",
    "    - tabla: cartera o prestatarios\n",
    "    - i0: codigo del municipio para depuración\n",
    "    - munlen: el número total de municipios para depuración\n",
    "    Agrega los datos a la lista `datos`, que debe ser creada \n",
    "    previamente en el scope global\n",
    "    \"\"\"\n",
    "\n",
    "    actividades = [\"Productivo\", \"Comercio\", \"Servicios\"]\n",
    "    for i1, actividad in enumerate(actividades):\n",
    "        categorias = get_item(\n",
    "            i0,\n",
    "            tabla,\n",
    "            \"categoria\",\n",
    "            municipio[\"cod_dep\"],\n",
    "            municipio[\"cod_mun\"],\n",
    "            actividad,\n",
    "        )\n",
    "        if categorias is None:\n",
    "            return\n",
    "        for i2, categoria in enumerate(categorias):\n",
    "            divisiones = get_item(\n",
    "                i0,\n",
    "                tabla,\n",
    "                \"division\",\n",
    "                municipio[\"cod_dep\"],\n",
    "                municipio[\"cod_mun\"],\n",
    "                actividad,\n",
    "                categoria[\"codigo\"],\n",
    "            )\n",
    "            if divisiones is None:\n",
    "                return\n",
    "            for i3, division in enumerate(divisiones):\n",
    "                grupos = get_item(\n",
    "                    i0,\n",
    "                    tabla,\n",
    "                    \"grupo\",\n",
    "                    municipio[\"cod_dep\"],\n",
    "                    municipio[\"cod_mun\"],\n",
    "                    actividad,\n",
    "                    categoria[\"codigo\"],\n",
    "                    division[\"codigo\"],\n",
    "                )\n",
    "                if grupos is None:\n",
    "                    return\n",
    "                for i4, grupo in enumerate(grupos):\n",
    "                    clases = get_item(\n",
    "                        i0,\n",
    "                        tabla,\n",
    "                        \"clase\",\n",
    "                        municipio[\"cod_dep\"],\n",
    "                        municipio[\"cod_mun\"],\n",
    "                        actividad,\n",
    "                        categoria[\"codigo\"],\n",
    "                        division[\"codigo\"],\n",
    "                        grupo[\"codigo\"],\n",
    "                    )\n",
    "                    if clases is None:\n",
    "                        return\n",
    "                    for i5, clase in enumerate(clases):\n",
    "                        log(\n",
    "                            i0,\n",
    "                            i1,\n",
    "                            i2,\n",
    "                            i3,\n",
    "                            i4,\n",
    "                            i5,\n",
    "                            munlen,\n",
    "                            len(actividades),\n",
    "                            len(categorias),\n",
    "                            len(divisiones),\n",
    "                            len(grupos),\n",
    "                            len(clases),\n",
    "                        )\n",
    "                        subclases = get_item(\n",
    "                            i0,\n",
    "                            tabla,\n",
    "                            \"subclase\",\n",
    "                            municipio[\"cod_dep\"],\n",
    "                            municipio[\"cod_mun\"],\n",
    "                            actividad,\n",
    "                            categoria[\"codigo\"],\n",
    "                            division[\"codigo\"],\n",
    "                            grupo[\"codigo\"],\n",
    "                            clase[\"codigo\"],\n",
    "                            tipo=\"completo\",\n",
    "                        )\n",
    "                        if subclases is None:\n",
    "                            return\n",
    "                        contexto = {\n",
    "                            \"departamento\": municipio[\"desc_dep\"],\n",
    "                            \"municipio\": municipio[\"desc_mun\"],\n",
    "                            \"cod_ine\": municipio[\"cod_ine\"],\n",
    "                            \"actividad\": actividad.lower(),\n",
    "                            \"categoria\": categoria[\"name\"],\n",
    "                            \"division\": division[\"name\"],\n",
    "                            \"grupo\": grupo[\"name\"],\n",
    "                            \"clase\": clase[\"name\"],\n",
    "                        }\n",
    "                        datos.extend([{**contexto, **i} for i in subclases])\n",
    "\n",
    "\n",
    "def get_all_data(municipios, tabla, desde=0, lista=None):\n",
    "    \"\"\"\n",
    "    Descarga datos para todos los municipios en el dataframe municipios\n",
    "    - municipios: dataframe de municipios\n",
    "    - tabla: cartera o prestatarios\n",
    "    - desde: desde qué índice de municipios realizar consultas, \n",
    "    por defecto desde el inicio\n",
    "    - lista: lista de índices de municipios para los cuales se quiere \n",
    "    realizar consultas\n",
    "    \"\"\"\n",
    "    \n",
    "    if lista is None:\n",
    "        for i0, municipio in enumerate(municipios.to_dict(orient=\"records\")[desde:]):\n",
    "            get_data(municipio, tabla, i0 + desde, len(municipios))\n",
    "    else:\n",
    "        for i in lista:\n",
    "            municipio = municipios.to_dict(orient=\"records\")[i]\n",
    "            get_data(municipio, tabla, i, len(municipios))\n",
    "            "
   ]
  },
  {
   "cell_type": "markdown",
   "id": "4c32c711-1a05-499f-9d82-275a237261fb",
   "metadata": {},
   "source": [
    "Funciones para ordenar datos descargados en una forma que facilite el análisis:"
   ]
  },
  {
   "cell_type": "code",
   "execution_count": 164,
   "id": "359dc884-355a-416b-86fc-435184ffe96c",
   "metadata": {
    "tags": []
   },
   "outputs": [],
   "source": [
    "def format_datos(datos, tabla):\n",
    "    \"\"\"\n",
    "    - Remueve entradas duplicadas ocasionadas por repetir descargas al lidiar con errores\n",
    "    - Convierte valores numéricos de cadenas de texto\n",
    "    - Multiplica valores en la cartera x 1 Millón para lidiar con unidades de dólar\n",
    "    - Crea columnas adicionales para valores bien formateados de categorías y\n",
    "    subclases de la CAEDEC en base a información oficial de paquetes de actualización\n",
    "    de sistemas de la ASFI\n",
    "    Retorna un dataframe\n",
    "    \"\"\"\n",
    "    \n",
    "    def get_caedec():\n",
    "        categorias = pd.read_csv('data/caedec_categorias.csv')\n",
    "        subclases = pd.read_csv('data/caedec_subclases.csv')\n",
    "        subclases = subclases[subclases.CodigoGrupo != 'X']\n",
    "        subclases.loc[:,'Codigo'] = subclases.Codigo.astype(int)\n",
    "        return categorias, subclases\n",
    "\n",
    "    def format_caedec(df, categorias, subclases):\n",
    "        dataframe = df.copy()\n",
    "        dataframe.insert(10, 'subclase', dataframe.codigo.map(subclases.set_index('Codigo').Descripcion.apply(lambda x: x.lower()).to_dict()))\n",
    "        dataframe.insert(5, 'categoria_codigo', dataframe.codigo.map(subclases.set_index('Codigo').CodigoGrupo.to_dict()))\n",
    "        dataframe.insert(5, 'categoria_completo', dataframe.categoria_codigo.map(categorias.set_index('Codigo').Descripcion.apply(lambda x: x.lower()).to_dict()))\n",
    "        return dataframe\n",
    "    \n",
    "    df = pd.DataFrame(datos)\n",
    "    df.drop_duplicates(inplace=True)\n",
    "\n",
    "    for year in [str(y) for y in range(2012, 2022)]:\n",
    "        if year in df.columns:\n",
    "            df[year] = pd.to_numeric(df[year])\n",
    "            if tabla == 'cartera':\n",
    "                df[year] = df[year].apply(lambda x: x * 1000000)\n",
    "\n",
    "    for col in ['cod_ine', 'codigo']:\n",
    "        df[col] = pd.to_numeric(df[col])\n",
    "\n",
    "    df['name'] = df.name.str.lower()\n",
    "    \n",
    "    categorias, subclases = get_caedec()\n",
    "    df = format_caedec(df, categorias, subclases)\n",
    "    df.columns = df.columns[:14].tolist() + [int(col) for col in df.columns[14:]]\n",
    "    df = df[['departamento', 'municipio', 'cod_ine', 'actividad', 'categoria_completo', 'categoria_codigo', 'division', 'grupo', 'clase', 'codigo', 'subclase', 'nota', 2012, 2013, 2014, 2015, 2016, 2017, 2018, 2019, 2020, 2021]]\n",
    "    df.columns = ['departamento', 'municipio', 'cod_ine', 'sector', 'categoria', 'categoria_codigo', 'division', 'grupo', 'clase', 'subclase_codigo', 'subclase', 'nota', 2012, 2013, 2014, 2015, 2016, 2017, 2018, 2019, 2020, 2021]\n",
    "    # if tabla == 'cartera':\n",
    "    #     df = df[['departamento', 'municipio', 'cod_ine', 'actividad', 'categoria_completo', 'categoria_codigo', 'division', 'grupo', 'clase', 'codigo', 'subclase', 'nota', 2012, 2013, 2014, 2015, 2016, 2017, 2018, 2019, 2020, 2021]]\n",
    "    #     df.columns = ['departamento', 'municipio', 'cod_ine', 'sector', 'categoria', 'categoria_codigo', 'division', 'grupo', 'clase', 'subclase_codigo', 'subclase', 'nota', 2012, 2013, 2014, 2015, 2016, 2017, 2018, 2019, 2020, 2021]\n",
    "    # else:\n",
    "    #     df = df[['departamento', 'municipio', 'cod_ine', 'actividad', 'categoria_completo', 'categoria_codigo', 'division', 'grupo', 'clase', 'codigo', 'subclase', 'nota', 2012, 2013, 2014, 2015, 2016, 2017, 2018, 2019, 2020, 2021]]\n",
    "    #     df.columns = ['departamento', 'municipio', 'cod_ine', 'sector', 'categoria', 'categoria_codigo', 'division', 'grupo', 'clase', 'subclase_codigo', 'subclase', 'nota', 2012, 2013, 2014, 2015, 2016, 2017, 2018, 2019, 2020, 2021]\n",
    "    return df\n",
    "\n",
    "def consolidar_datos(dataframes, names):\n",
    "    \"\"\"\n",
    "    Consolida los datos de cartera y prestatarios en un sólo dataframe \n",
    "    donde cada fila representa el valor para una actividad en un municipio\n",
    "    y año específicos. \n",
    "    \"\"\"\n",
    "    \n",
    "    common_cols = 12\n",
    "    new_cols = {i: name for i, name in enumerate(names)}\n",
    "    new_cols[\"level_{}\".format(common_cols)] = 'year'\n",
    "    \n",
    "    for i, dataframe in enumerate(dataframes):\n",
    "        dataframe = dataframe.drop_duplicates(subset=dataframe.columns[:common_cols])\n",
    "        dataframe = dataframe[dataframe.subclase_codigo.notna()]\n",
    "        dataframe['subclase_codigo'] = dataframe.subclase_codigo.astype(int)\n",
    "        dataframes[i] = dataframe\n",
    "    \n",
    "    creditos = (\n",
    "        pd.concat(\n",
    "            [\n",
    "                dataframe.set_index(dataframe.columns[:common_cols].tolist()).stack()\n",
    "                for dataframe in dataframes\n",
    "            ],\n",
    "            axis=1,\n",
    "        )\n",
    "        .reset_index()\n",
    "        .rename(\n",
    "            columns=new_cols\n",
    "        )\n",
    "    )\n",
    "    creditos['year'] = creditos['year'].astype(int)\n",
    "    creditos = creditos.drop_duplicates(subset=['year','cod_ine', 'sector', 'subclase_codigo'])\n",
    "    return creditos"
   ]
  },
  {
   "cell_type": "code",
   "execution_count": null,
   "id": "1b71fa44-d731-4f81-afd5-a41df805ae54",
   "metadata": {},
   "outputs": [
    {
     "data": {
      "text/markdown": [
       "En estas funciones utilizo diccionarios de categorías y subclases del Código de Actividad Económica y Destino del Crédito (CAEDEC). Construí estos diccionarios con datos extraídos de paquetes de actualización del sistema SCIP que produce la ASFI para que Entidades de Intermediación Financiera envíen reportes:\n",
       "- <a class='datalink' href=https://github.com/mauforonda/cartera_de_creditos_en_bolivia/blob/master/data/caedec_categorias.csv>caedec_categorias.csv</a>\n",
       "- <a class='datalink' href=https://github.com/mauforonda/cartera_de_creditos_en_bolivia/blob/master/data/caedec_subclases.csv>caedec_subclases.csv</a>"
      ],
      "text/plain": [
       "<IPython.core.display.Markdown object>"
      ]
     },
     "metadata": {},
     "output_type": "display_data"
    }
   ],
   "source": [
    "md(\n",
    "    \"En estas funciones utilizo diccionarios de categorías y subclases del Código de Actividad Económica y Destino del Crédito (CAEDEC). Construí estos diccionarios con datos extraídos de paquetes de actualización del sistema SCIP que produce la ASFI para que Entidades de Intermediación Financiera envíen reportes:\\n- {}\\n- {}\".format(\n",
    "        datalink('caedec_categorias.csv'),\n",
    "        datalink('caedec_subclases.csv')\n",
    "    )\n",
    ")"
   ]
  },
  {
   "cell_type": "markdown",
   "id": "2fb4595f-7355-47f0-a709-8a39adda92d8",
   "metadata": {},
   "source": [
    "### Proceso"
   ]
  },
  {
   "cell_type": "markdown",
   "id": "079dadda-ebb3-4312-a8cd-c81fbe87a367",
   "metadata": {},
   "source": [
    "El proceso consiste en construir la lista de municipios disponibles, descargar datos de la créditos para cada uno, ordenar y guardar estos datos. La descarga es la parte más lenta y menos robusta del proceso porque depende del comportamiento del sistema del cual se toman los datos. Toma alrededor de 6 horas de descargas no concurrentes (para evitar dañar la disponibilidad del sistema), que deberían correr de forma ininterrumpida. Todos los datos y errores son almacenados en objetos del scope global, lo cual permite depurar y correr el proceso iterativamente sin perder datos en caso de fallas graves. Al terminar cada sesión de descarga, se reintentan las consultas que devuelven errores. Finalmente, se ordena los datos en una forma que facilite posteriores análisis."
   ]
  },
  {
   "cell_type": "markdown",
   "id": "ce79f5b5-7723-4c7d-afbb-f7c8a7999162",
   "metadata": {},
   "source": [
    "#### Construir el listado de municipios"
   ]
  },
  {
   "cell_type": "markdown",
   "id": "e17d5d37-3ee7-47d9-9ab7-a4b74aefecc5",
   "metadata": {},
   "source": [
    "Descarga una tabla con información de todos los municipios disponibles"
   ]
  },
  {
   "cell_type": "code",
   "execution_count": 5,
   "id": "3972e71e-5394-492c-8331-55bf101071f1",
   "metadata": {},
   "outputs": [],
   "source": [
    "departamentos, actividades, complejos = download_opciones()\n",
    "municipios = format_municipios(download_municipios(departamentos))"
   ]
  },
  {
   "cell_type": "markdown",
   "id": "3ab6a821-7526-44a2-a5a6-80ca623f88a7",
   "metadata": {},
   "source": [
    "#### Descargar datos del valor de cartera"
   ]
  },
  {
   "cell_type": "markdown",
   "id": "8eb5d2a5-02f4-4201-aae1-6eefb138cd27",
   "metadata": {},
   "source": [
    "Descarga datos de la cartera para todos los municipios"
   ]
  },
  {
   "cell_type": "code",
   "execution_count": 4,
   "id": "2af5a161-c2fd-45f1-b09c-d8f70d9999a4",
   "metadata": {},
   "outputs": [],
   "source": [
    "errores = []\n",
    "datos = []"
   ]
  },
  {
   "cell_type": "code",
   "execution_count": 8,
   "id": "31d51412-37a7-4636-99f7-88ad4d09c261",
   "metadata": {
    "tags": [
     "no_output"
    ]
   },
   "outputs": [
    {
     "name": "stdout",
     "output_type": "stream",
     "text": [
      "municipio:92/182\n",
      "actividad:2/3\n",
      "categoria:1/1\n",
      "division:3/3\n",
      "grupo:3/6\n",
      "clase:6/6\n",
      "\n"
     ]
    }
   ],
   "source": [
    "get_all_data(municipios, 'cartera')"
   ]
  },
  {
   "cell_type": "markdown",
   "id": "c3d2643b-df92-4f0f-afa0-9d25188caca4",
   "metadata": {},
   "source": [
    "Reintenta descargas fallidas"
   ]
  },
  {
   "cell_type": "code",
   "execution_count": 79,
   "id": "7d73700e-f357-4a15-b5db-f73f427c16ed",
   "metadata": {
    "tags": [
     "no_output"
    ]
   },
   "outputs": [
    {
     "name": "stdout",
     "output_type": "stream",
     "text": [
      "municipio:171/182\n",
      "actividad:3/3\n",
      "categoria:7/7\n",
      "division:1/1\n",
      "grupo:1/1\n",
      "clase:1/1\n",
      "\n"
     ]
    }
   ],
   "source": [
    "get_all_data(municipios, 'cartera', lista=pd.json_normalize(errores).municipio.tolist())"
   ]
  },
  {
   "cell_type": "markdown",
   "id": "df5523a4-2b14-4902-982f-93cc7ee8a517",
   "metadata": {},
   "source": [
    "Ordena datos"
   ]
  },
  {
   "cell_type": "code",
   "execution_count": 81,
   "id": "410dde26-784c-4ae4-9680-a2fccc4626c7",
   "metadata": {},
   "outputs": [],
   "source": [
    "cartera = format_datos(datos, 'cartera')"
   ]
  },
  {
   "cell_type": "markdown",
   "id": "3a75ec28-c168-4b42-902e-ab95b2129868",
   "metadata": {},
   "source": [
    "#### Descargar datos del número de prestatarios"
   ]
  },
  {
   "cell_type": "markdown",
   "id": "5d3fac11-9a13-4814-8c2e-88b6949c407c",
   "metadata": {},
   "source": [
    "Descarga datos del número de prestatarios"
   ]
  },
  {
   "cell_type": "code",
   "execution_count": 84,
   "id": "f116e697-2946-4080-a475-b75d777ed4d1",
   "metadata": {},
   "outputs": [],
   "source": [
    "errores = []\n",
    "datos = []"
   ]
  },
  {
   "cell_type": "code",
   "execution_count": 104,
   "id": "05c09621-58ed-4f5f-9685-183cb2d4c6b2",
   "metadata": {
    "tags": [
     "no_output"
    ]
   },
   "outputs": [
    {
     "name": "stdout",
     "output_type": "stream",
     "text": [
      "municipio:182/182\n",
      "actividad:3/3\n",
      "categoria:5/5\n",
      "division:2/2\n",
      "grupo:1/1\n",
      "clase:1/1\n",
      "\n"
     ]
    }
   ],
   "source": [
    "get_all_data(municipios, 'prestatarios')"
   ]
  },
  {
   "cell_type": "markdown",
   "id": "1e44944b-4911-435c-af6c-633420b7665e",
   "metadata": {},
   "source": [
    "Reintenta descargas fallidas"
   ]
  },
  {
   "cell_type": "code",
   "execution_count": null,
   "id": "bbde8b54-a0c5-4c3c-9991-73140f5cc0d1",
   "metadata": {},
   "outputs": [],
   "source": [
    "get_all_data(municipios, 'prestatarios', lista=[e.municipio for e in errores])"
   ]
  },
  {
   "cell_type": "markdown",
   "id": "6a3f40dc-5bea-4d1b-a401-c933ca43e9de",
   "metadata": {},
   "source": [
    "Ordena datos"
   ]
  },
  {
   "cell_type": "code",
   "execution_count": 165,
   "id": "3b7d4016-b21b-4ad3-812d-1b148d09088d",
   "metadata": {},
   "outputs": [],
   "source": [
    "prestatarios = format_datos(datos, 'prestatarios')"
   ]
  },
  {
   "cell_type": "markdown",
   "id": "dcf0702d-23df-44c4-8a21-fc134db43c28",
   "metadata": {},
   "source": [
    "#### Consolidación y almacenamiento"
   ]
  },
  {
   "cell_type": "markdown",
   "id": "d9c38aaa-80e7-4c77-806b-5ea08002fe39",
   "metadata": {},
   "source": [
    "Consolida los datos de cartera y prestatarios en una sóla tabla donde cada fila representa valores para un municipio, actividad y año."
   ]
  },
  {
   "cell_type": "code",
   "execution_count": 167,
   "id": "5e28499b-4ab0-42e8-81f0-2de01160fdf6",
   "metadata": {},
   "outputs": [],
   "source": [
    "cartera.to_csv('data/cartera.csv', index=False)\n",
    "prestatarios.to_csv('data/prestatarios.csv', index=False)"
   ]
  },
  {
   "cell_type": "code",
   "execution_count": 168,
   "id": "61384bc1-329c-45a4-bf79-d9565b56edd6",
   "metadata": {
    "tags": []
   },
   "outputs": [],
   "source": [
    "creditos = consolidar_datos([cartera, prestatarios], ['cartera', 'prestatarios'])"
   ]
  },
  {
   "cell_type": "code",
   "execution_count": null,
   "id": "c947c0a0-10e3-4a2b-a4ec-4c3ac650adb2",
   "metadata": {},
   "outputs": [
    {
     "data": {
      "text/markdown": [
       "Finalmente guarda los datos en dos documentos:\n",
       "- <a class='datalink' href=https://github.com/mauforonda/cartera_de_creditos_en_bolivia/blob/master/data/creditos.csv>creditos.csv</a> contiene los datos de la cartera de créditos\n",
       "- <a class='datalink' href=https://github.com/mauforonda/cartera_de_creditos_en_bolivia/blob/master/data/actividades.csv>actividades.csv</a> contiene un diccionario con metadatos de cada actividad en CAEDEC"
      ],
      "text/plain": [
       "<IPython.core.display.Markdown object>"
      ]
     },
     "metadata": {},
     "output_type": "display_data"
    }
   ],
   "source": [
    "md('Finalmente guarda los datos en dos documentos:\\n- {} contiene los datos de la cartera de créditos\\n- {} contiene un diccionario con metadatos de cada actividad en CAEDEC'.format(\n",
    "    datalink('creditos.csv'),\n",
    "    datalink('actividades.csv')\n",
    "))"
   ]
  },
  {
   "cell_type": "code",
   "execution_count": 170,
   "id": "8dcd8d92-fbe5-44d9-8e6c-103157eb5b2b",
   "metadata": {},
   "outputs": [],
   "source": [
    "creditos[['departamento', 'municipio', 'cod_ine', 'sector', 'categoria', 'categoria_codigo', 'subclase_codigo', 'subclase', 'year', 'cartera', 'prestatarios']].to_csv('data/creditos.csv', index=False)"
   ]
  },
  {
   "cell_type": "code",
   "execution_count": 171,
   "id": "49dab988-9e3b-4b0f-a1f9-1a636e89ed57",
   "metadata": {},
   "outputs": [],
   "source": [
    "creditos.groupby('subclase_codigo')[['categoria', 'categoria_codigo', 'division', 'grupo', 'clase', 'subclase_codigo', 'subclase', 'nota']].first().to_csv('data/actividades.csv', index=False)"
   ]
  },
  {
   "cell_type": "markdown",
   "id": "dd3c8929-9953-4ca6-ae80-1d1864543e28",
   "metadata": {},
   "source": [
    "## Descripción de los datos"
   ]
  },
  {
   "cell_type": "markdown",
   "id": "8e5e9fbf-d3d9-4589-9b82-473f0da289a5",
   "metadata": {},
   "source": [
    "### Forma y cobertura "
   ]
  },
  {
   "cell_type": "code",
   "execution_count": 3,
   "id": "f4ed67cf-2dd6-4c98-a3d9-ced1c3ccd5e3",
   "metadata": {},
   "outputs": [],
   "source": [
    "creditos = pd.read_csv('data/creditos.csv')"
   ]
  },
  {
   "cell_type": "code",
   "execution_count": 6,
   "id": "985c0b98-3167-4a73-977e-92850310a580",
   "metadata": {},
   "outputs": [
    {
     "data": {
      "text/markdown": [
       "El dataset tiene una forma de 321650 filas y 11 columnas. Cada fila representa el valor de cartera en dólares americanos y el número de prestatarios para una actividad en un municipio y año específicos. Una fila aleatoria se ve así:"
      ],
      "text/plain": [
       "<IPython.core.display.Markdown object>"
      ]
     },
     "metadata": {},
     "output_type": "display_data"
    },
    {
     "data": {
      "text/html": [
       "<div>\n",
       "<style scoped>\n",
       "    .dataframe tbody tr th:only-of-type {\n",
       "        vertical-align: middle;\n",
       "    }\n",
       "\n",
       "    .dataframe tbody tr th {\n",
       "        vertical-align: top;\n",
       "    }\n",
       "\n",
       "    .dataframe thead th {\n",
       "        text-align: right;\n",
       "    }\n",
       "</style>\n",
       "<table border=\"1\" class=\"dataframe\">\n",
       "  <thead>\n",
       "    <tr style=\"text-align: right;\">\n",
       "      <th></th>\n",
       "      <th>departamento</th>\n",
       "      <th>municipio</th>\n",
       "      <th>cod_ine</th>\n",
       "      <th>sector</th>\n",
       "      <th>categoria</th>\n",
       "      <th>categoria_codigo</th>\n",
       "      <th>subclase_codigo</th>\n",
       "      <th>subclase</th>\n",
       "      <th>year</th>\n",
       "      <th>cartera</th>\n",
       "      <th>prestatarios</th>\n",
       "    </tr>\n",
       "  </thead>\n",
       "  <tbody>\n",
       "    <tr>\n",
       "      <th>209087</th>\n",
       "      <td>Santa Cruz</td>\n",
       "      <td>El Torno</td>\n",
       "      <td>70105</td>\n",
       "      <td>servicios</td>\n",
       "      <td>servicios sociales comunales y personales</td>\n",
       "      <td>O</td>\n",
       "      <td>85199</td>\n",
       "      <td>otros servicios relacionados con la salud huma...</td>\n",
       "      <td>2019</td>\n",
       "      <td>10541.95</td>\n",
       "      <td>2.0</td>\n",
       "    </tr>\n",
       "  </tbody>\n",
       "</table>\n",
       "</div>"
      ],
      "text/plain": [
       "       departamento municipio  cod_ine     sector  \\\n",
       "209087   Santa Cruz  El Torno    70105  servicios   \n",
       "\n",
       "                                        categoria categoria_codigo  \\\n",
       "209087  servicios sociales comunales y personales                O   \n",
       "\n",
       "        subclase_codigo                                           subclase  \\\n",
       "209087            85199  otros servicios relacionados con la salud huma...   \n",
       "\n",
       "        year   cartera  prestatarios  \n",
       "209087  2019  10541.95           2.0  "
      ]
     },
     "metadata": {},
     "output_type": "display_data"
    },
    {
     "data": {
      "text/markdown": [
       "<p class=\"caption\"> <em>Ejemplo de una entrada en el set de datos.</em> </p>"
      ],
      "text/plain": [
       "<IPython.core.display.Markdown object>"
      ]
     },
     "metadata": {},
     "output_type": "display_data"
    }
   ],
   "source": [
    "md('El dataset tiene una forma de {} filas y {} columnas. Cada fila representa el valor de cartera en dólares americanos y el número de prestatarios para una actividad en un municipio y año específicos. Una fila aleatoria se ve así:'.format(len(creditos), len(creditos.columns)))\n",
    "display(creditos.sample())\n",
    "caption('Ejemplo de una entrada en el set de datos.')"
   ]
  },
  {
   "cell_type": "markdown",
   "id": "225eb1fb-68dd-4c76-ad5f-315a3f1186fa",
   "metadata": {},
   "source": [
    "Existen datos anuales del valor de cartera a fin de diciembre para el periodo entre 2012 y 2020, y datos anuales del número de prestatarios a fin de diciembre para el periodo entre 2012 y 2019. Además existen datos del valor de cartera al final de Agosto de 2021. Cada municipio está descrito con su Código INE, nombre y departamento. Cada actividad económica está descrita con su valor en el Código de Actividad Económica y Destino del Crédito (CAEDEC), que clasifica actividades en una nomenclatura jerárquica de categorías que contienen divisiones, grupos, clases y subclases, de más general a más específico. La cantidad de valores únicos para cada parámetro es:"
   ]
  },
  {
   "cell_type": "code",
   "execution_count": 7,
   "id": "9d3ddd5d-9f1f-42db-98b5-8e043f1b6635",
   "metadata": {},
   "outputs": [
    {
     "data": {
      "text/html": [
       "<div>\n",
       "<style scoped>\n",
       "    .dataframe tbody tr th:only-of-type {\n",
       "        vertical-align: middle;\n",
       "    }\n",
       "\n",
       "    .dataframe tbody tr th {\n",
       "        vertical-align: top;\n",
       "    }\n",
       "\n",
       "    .dataframe thead th {\n",
       "        text-align: right;\n",
       "    }\n",
       "</style>\n",
       "<table border=\"1\" class=\"dataframe\">\n",
       "  <thead>\n",
       "    <tr style=\"text-align: right;\">\n",
       "      <th></th>\n",
       "      <th>Valor de Cartera</th>\n",
       "      <th>Número de Prestatarios</th>\n",
       "    </tr>\n",
       "  </thead>\n",
       "  <tbody>\n",
       "    <tr>\n",
       "      <th>Departamentos</th>\n",
       "      <td>9</td>\n",
       "      <td>9</td>\n",
       "    </tr>\n",
       "    <tr>\n",
       "      <th>Municipios</th>\n",
       "      <td>180</td>\n",
       "      <td>181</td>\n",
       "    </tr>\n",
       "    <tr>\n",
       "      <th>Categorías</th>\n",
       "      <td>18</td>\n",
       "      <td>19</td>\n",
       "    </tr>\n",
       "    <tr>\n",
       "      <th>Subclases</th>\n",
       "      <td>600</td>\n",
       "      <td>600</td>\n",
       "    </tr>\n",
       "    <tr>\n",
       "      <th>Año inicial</th>\n",
       "      <td>2012</td>\n",
       "      <td>2012</td>\n",
       "    </tr>\n",
       "    <tr>\n",
       "      <th>Año final</th>\n",
       "      <td>2021</td>\n",
       "      <td>2021</td>\n",
       "    </tr>\n",
       "  </tbody>\n",
       "</table>\n",
       "</div>"
      ],
      "text/plain": [
       "               Valor de Cartera  Número de Prestatarios\n",
       "Departamentos                 9                       9\n",
       "Municipios                  180                     181\n",
       "Categorías                   18                      19\n",
       "Subclases                   600                     600\n",
       "Año inicial                2012                    2012\n",
       "Año final                  2021                    2021"
      ]
     },
     "metadata": {},
     "output_type": "display_data"
    },
    {
     "data": {
      "text/markdown": [
       "<p class=\"caption\"> <em>Número de valores únicos en columnas del set de datos de créditos para valor de cartera y número de prestatarios.</em> </p>"
      ],
      "text/plain": [
       "<IPython.core.display.Markdown object>"
      ]
     },
     "metadata": {},
     "output_type": "display_data"
    }
   ],
   "source": [
    "display(\n",
    "    pd.DataFrame(\n",
    "        [\n",
    "            {\n",
    "                \"Departamentos\": len(dataframe.departamento.unique()),\n",
    "                \"Municipios\": len(dataframe.cod_ine.unique()),\n",
    "                \"Categorías\": len(dataframe.categoria_codigo.unique()),\n",
    "                \"Subclases\": len(dataframe.subclase_codigo.unique()),\n",
    "                \"Año inicial\": dataframe.year.min(),\n",
    "                \"Año final\": dataframe.year.max()\n",
    "            }\n",
    "            for dataframe in [\n",
    "                creditos[creditos.cartera.notna()],\n",
    "                creditos[creditos.prestatarios.notna()],\n",
    "            ]\n",
    "        ],\n",
    "        index=[\"Valor de Cartera\", \"Número de Prestatarios\"],\n",
    "    ).T\n",
    ")\n",
    "caption(\"Número de valores únicos en columnas del set de datos de créditos para valor de cartera y número de prestatarios.\")"
   ]
  },
  {
   "cell_type": "code",
   "execution_count": 8,
   "id": "351436ea-e4f8-41e1-9569-11e4c32969e8",
   "metadata": {},
   "outputs": [
    {
     "data": {
      "text/html": [
       "<div>\n",
       "<style scoped>\n",
       "    .dataframe tbody tr th:only-of-type {\n",
       "        vertical-align: middle;\n",
       "    }\n",
       "\n",
       "    .dataframe tbody tr th {\n",
       "        vertical-align: top;\n",
       "    }\n",
       "\n",
       "    .dataframe thead th {\n",
       "        text-align: right;\n",
       "    }\n",
       "</style>\n",
       "<table border=\"1\" class=\"dataframe\">\n",
       "  <thead>\n",
       "    <tr style=\"text-align: right;\">\n",
       "      <th></th>\n",
       "      <th>Valor de Cartera</th>\n",
       "      <th>Número de Prestatarios</th>\n",
       "    </tr>\n",
       "  </thead>\n",
       "  <tbody>\n",
       "    <tr>\n",
       "      <th>Departamentos</th>\n",
       "      <td>9</td>\n",
       "      <td>9</td>\n",
       "    </tr>\n",
       "    <tr>\n",
       "      <th>Municipios</th>\n",
       "      <td>180</td>\n",
       "      <td>181</td>\n",
       "    </tr>\n",
       "    <tr>\n",
       "      <th>Categorías</th>\n",
       "      <td>18</td>\n",
       "      <td>19</td>\n",
       "    </tr>\n",
       "    <tr>\n",
       "      <th>Subclases</th>\n",
       "      <td>600</td>\n",
       "      <td>600</td>\n",
       "    </tr>\n",
       "  </tbody>\n",
       "</table>\n",
       "</div>"
      ],
      "text/plain": [
       "               Valor de Cartera  Número de Prestatarios\n",
       "Departamentos                 9                       9\n",
       "Municipios                  180                     181\n",
       "Categorías                   18                      19\n",
       "Subclases                   600                     600"
      ]
     },
     "metadata": {},
     "output_type": "display_data"
    },
    {
     "data": {
      "text/markdown": [
       "<p class=\"caption\"> <em>Número de valores únicos en columnas del set de datos de créditos para valor de cartera y número de prestatarios.</em> </p>"
      ],
      "text/plain": [
       "<IPython.core.display.Markdown object>"
      ]
     },
     "metadata": {},
     "output_type": "display_data"
    }
   ],
   "source": [
    "display(\n",
    "    pd.DataFrame(\n",
    "        [\n",
    "            {\n",
    "                \"Departamentos\": len(dataframe.departamento.unique()),\n",
    "                \"Municipios\": len(dataframe.cod_ine.unique()),\n",
    "                \"Categorías\": len(dataframe.categoria_codigo.unique()),\n",
    "                \"Subclases\": len(dataframe.subclase_codigo.unique()),\n",
    "            }\n",
    "            for dataframe in [\n",
    "                creditos[creditos.cartera.notna()],\n",
    "                creditos[creditos.prestatarios.notna()],\n",
    "            ]\n",
    "        ],\n",
    "        index=[\"Valor de Cartera\", \"Número de Prestatarios\"],\n",
    "    ).T\n",
    ")\n",
    "caption(\"Número de valores únicos en columnas del set de datos de créditos para valor de cartera y número de prestatarios.\")"
   ]
  },
  {
   "cell_type": "markdown",
   "id": "368de25f-9325-4da7-af9a-39690efa0261",
   "metadata": {},
   "source": [
    "### Opciones de clasificaciones de actividades"
   ]
  },
  {
   "cell_type": "markdown",
   "id": "be50c153-8ad3-43d1-80bf-580b57cecabb",
   "metadata": {},
   "source": [
    "Además, cada fila incluye una nota que describe la actividad y el sector en el que es clasificada. La designación de sector es una decisión política y ortogonal a la nomenclatura CAEDEC. Existen 3 sectores: productivo, comercio y servicios. Algunas actividades son cambiadas de un sector a otro para mejorar sus condiciones de acceso a crédito. Pero también, existen actividades que son simultáneamente clasificadas en dos sectores diferentes en los mismos periodos y municipios. Mantengo estas irregularidades porque podrían ser significativas."
   ]
  },
  {
   "cell_type": "code",
   "execution_count": 9,
   "id": "a6a5e63a-ac0e-4153-b927-b5464159334f",
   "metadata": {},
   "outputs": [
    {
     "data": {
      "text/markdown": [
       "Existen 7370 entradas que incluyen 2 sectores. Un ejemplo:"
      ],
      "text/plain": [
       "<IPython.core.display.Markdown object>"
      ]
     },
     "metadata": {},
     "output_type": "display_data"
    },
    {
     "data": {
      "text/html": [
       "<div>\n",
       "<style scoped>\n",
       "    .dataframe tbody tr th:only-of-type {\n",
       "        vertical-align: middle;\n",
       "    }\n",
       "\n",
       "    .dataframe tbody tr th {\n",
       "        vertical-align: top;\n",
       "    }\n",
       "\n",
       "    .dataframe thead th {\n",
       "        text-align: right;\n",
       "    }\n",
       "</style>\n",
       "<table border=\"1\" class=\"dataframe\">\n",
       "  <thead>\n",
       "    <tr style=\"text-align: right;\">\n",
       "      <th></th>\n",
       "      <th>departamento</th>\n",
       "      <th>municipio</th>\n",
       "      <th>cod_ine</th>\n",
       "      <th>sector</th>\n",
       "      <th>categoria</th>\n",
       "      <th>categoria_codigo</th>\n",
       "      <th>subclase_codigo</th>\n",
       "      <th>subclase</th>\n",
       "      <th>year</th>\n",
       "      <th>cartera</th>\n",
       "      <th>prestatarios</th>\n",
       "    </tr>\n",
       "  </thead>\n",
       "  <tbody>\n",
       "    <tr>\n",
       "      <th>269889</th>\n",
       "      <td>Beni</td>\n",
       "      <td>Riberalta</td>\n",
       "      <td>80201</td>\n",
       "      <td>productivo</td>\n",
       "      <td>servicios inmobiliarios empresariales y de alq...</td>\n",
       "      <td>L</td>\n",
       "      <td>71110</td>\n",
       "      <td>alquiler de equipo de transporte por via terre...</td>\n",
       "      <td>2021</td>\n",
       "      <td>42790.82</td>\n",
       "      <td>3.0</td>\n",
       "    </tr>\n",
       "    <tr>\n",
       "      <th>272279</th>\n",
       "      <td>Beni</td>\n",
       "      <td>Riberalta</td>\n",
       "      <td>80201</td>\n",
       "      <td>servicios</td>\n",
       "      <td>servicios inmobiliarios empresariales y de alq...</td>\n",
       "      <td>L</td>\n",
       "      <td>71110</td>\n",
       "      <td>alquiler de equipo de transporte por via terre...</td>\n",
       "      <td>2021</td>\n",
       "      <td>0.00</td>\n",
       "      <td>0.0</td>\n",
       "    </tr>\n",
       "  </tbody>\n",
       "</table>\n",
       "</div>"
      ],
      "text/plain": [
       "       departamento  municipio  cod_ine      sector  \\\n",
       "269889         Beni  Riberalta    80201  productivo   \n",
       "272279         Beni  Riberalta    80201   servicios   \n",
       "\n",
       "                                                categoria categoria_codigo  \\\n",
       "269889  servicios inmobiliarios empresariales y de alq...                L   \n",
       "272279  servicios inmobiliarios empresariales y de alq...                L   \n",
       "\n",
       "        subclase_codigo                                           subclase  \\\n",
       "269889            71110  alquiler de equipo de transporte por via terre...   \n",
       "272279            71110  alquiler de equipo de transporte por via terre...   \n",
       "\n",
       "        year   cartera  prestatarios  \n",
       "269889  2021  42790.82           3.0  \n",
       "272279  2021      0.00           0.0  "
      ]
     },
     "metadata": {},
     "output_type": "display_data"
    },
    {
     "data": {
      "text/markdown": [
       "<p class=\"caption\"> <em>Ejemplo de una entrada en un misma actividad, periodo y municipio que ocurre en dos sectores simultáneamente.</em> </p>"
      ],
      "text/plain": [
       "<IPython.core.display.Markdown object>"
      ]
     },
     "metadata": {},
     "output_type": "display_data"
    }
   ],
   "source": [
    "sectores_por_entrada = pd.DataFrame(\n",
    "    [\n",
    "        {\n",
    "            \"cod_ine\": i[0],\n",
    "            \"year\": i[1],\n",
    "            \"subclase\": i[2],\n",
    "            \"sectores\": len(dfi),\n",
    "        }\n",
    "        for i, dfi in creditos.groupby([\"cod_ine\", \"year\", \"subclase\"])\n",
    "    ]\n",
    ")\n",
    "\n",
    "doble_sector_sample = sectores_por_entrada[sectores_por_entrada.sectores > 1].sample().iloc[0].to_dict()\n",
    "\n",
    "md('Existen {} entradas que incluyen 2 sectores. Un ejemplo:'.format(len(sectores_por_entrada[sectores_por_entrada.sectores > 1])))\n",
    "display(creditos[(creditos.cod_ine == doble_sector_sample['cod_ine']) & (creditos.year == doble_sector_sample['year']) & (creditos.subclase == doble_sector_sample['subclase'])])\n",
    "caption('Ejemplo de una entrada en un misma actividad, periodo y municipio que ocurre en dos sectores simultáneamente.')"
   ]
  },
  {
   "cell_type": "markdown",
   "id": "e10a67ca-0adf-40bf-95cd-66471e885434",
   "metadata": {},
   "source": [
    "Por eso, al trabajar con los datos es importante decidir inicialmente entre utilizar la clasificación de sector o CAEDEC. Si se utiliza CAEDEC, la clasificación más técnica y fácil de interpretar, se debe considerar la existencia de múltiples filas para una misma actividad, municipio y año, y agregarlas. "
   ]
  },
  {
   "cell_type": "markdown",
   "id": "62ce2156-eb39-4cac-b13f-52f3f8b6410a",
   "metadata": {},
   "source": [
    "## Referencias\n",
    "\n",
    "<!-- BIBLIOGRAPHY START -->\n",
    "<div class=\"csl-bib-body\">\n",
    "  <div class=\"csl-entry\">Autoridad de Supervisión del Sistema Financiero. (2021a). <i>Matriz de Información Periódica</i>.</div>\n",
    "\n",
    "  <div class=\"csl-entry\">Autoridad de Supervisión del Sistema Financiero. (2021b). <i>Sistema de Captura de Información Periódica (SCIP)</i>. https://www.asfi.gob.bo/index.php/int-fin-aplicativos/sistema-de-captura-de-informacion-periodica-scip.html</div>\n",
    "\n",
    "  <div class=\"csl-entry\">Autoridad de Supervisión del Sistema Financiero. (2021c). <i>Reglamento de la Central de Información Crediticia</i>. https://servdmzw.asfi.gob.bo/circular/textos/L03T02.pdf</div>\n",
    "\n",
    "  <div class=\"csl-entry\">Dirección de Análisis Productivo (DAPRO), Ministerio de Desarrollo Productivo y Economía Plural. (2021). <i>Mapeo de Unidades Económicas - Sistema Integrado de Información Productiva</i>. https://siip.produccion.gob.bo/repSIIP2/formAsfi.php</div>\n",
    "\n",
    "</div>\n",
    "<!-- BIBLIOGRAPHY END -->"
   ]
  }
 ],
 "metadata": {
  "citation-manager": {
   "items": {
    "zotero": {
     "11395374/7XDWFQ39": {
      "URL": "https://siip.produccion.gob.bo/repSIIP2/formAsfi.php",
      "accessed": {
       "date-parts": [
        [
         2021,
         10,
         11
        ]
       ]
      },
      "author": [
       {
        "family": "Dirección de Análisis Productivo (DAPRO), Ministerio de Desarrollo Productivo y Economía Plural",
        "given": ""
       }
      ],
      "id": "11395374/7XDWFQ39",
      "issued": {
       "date-parts": [
        [
         2021
        ]
       ]
      },
      "title": "Mapeo de Unidades Económicas - Sistema Integrado de Información Productiva",
      "type": "webpage"
     },
     "11395374/I65DPXF8": {
      "URL": "https://www.asfi.gob.bo/index.php/int-fin-aplicativos/sistema-de-captura-de-informacion-periodica-scip.html",
      "accessed": {
       "date-parts": [
        [
         2021,
         10,
         13
        ]
       ]
      },
      "author": [
       {
        "family": "Autoridad de Supervisión del Sistema Financiero",
        "given": ""
       }
      ],
      "id": "11395374/I65DPXF8",
      "issued": {
       "date-parts": [
        [
         2021
        ]
       ]
      },
      "title": "Sistema de Captura de Información Periódica (SCIP)",
      "type": "webpage"
     },
     "11395374/IS3J849X": {
      "URL": "https://servdmzw.asfi.gob.bo/circular/textos/L03T02.pdf",
      "author": [
       {
        "family": "Autoridad de Supervisión del Sistema Financiero",
        "given": ""
       }
      ],
      "id": "11395374/IS3J849X",
      "issued": {
       "date-parts": [
        [
         2021,
         9,
         6
        ]
       ]
      },
      "title": "Reglamento de la Central de Información Crediticia",
      "type": "article"
     },
     "11395374/W3AGH44T": {
      "accessed": {
       "date-parts": [
        [
         2021,
         10,
         13
        ]
       ]
      },
      "author": [
       {
        "family": "Autoridad de Supervisión del Sistema Financiero",
        "given": ""
       }
      ],
      "id": "11395374/W3AGH44T",
      "issued": {
       "date-parts": [
        [
         2021
        ]
       ]
      },
      "title": "Matriz de Información Periódica",
      "type": "article"
     }
    }
   }
  },
  "kernelspec": {
   "display_name": "Python 3 (ipykernel)",
   "language": "python",
   "name": "python3"
  },
  "language_info": {
   "codemirror_mode": {
    "name": "ipython",
    "version": 3
   },
   "file_extension": ".py",
   "mimetype": "text/x-python",
   "name": "python",
   "nbconvert_exporter": "python",
   "pygments_lexer": "ipython3",
   "version": "3.9.10"
  },
  "widgets": {
   "application/vnd.jupyter.widget-state+json": {
    "state": {},
    "version_major": 2,
    "version_minor": 0
   }
  }
 },
 "nbformat": 4,
 "nbformat_minor": 5
}
