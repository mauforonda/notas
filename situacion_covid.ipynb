{
 "cells": [
  {
   "cell_type": "markdown",
   "id": "705e37f7-8411-4f5d-9628-6856f1ec7eca",
   "metadata": {},
   "source": [
    "# La situación del covid-19 en Bolivia"
   ]
  },
  {
   "cell_type": "markdown",
   "id": "93493fdf-5658-461c-bafc-7eb5210720d2",
   "metadata": {},
   "source": [
    "> Un tablero simple para monitorear datos de covid-19 por departamento"
   ]
  },
  {
   "cell_type": "code",
   "execution_count": 23,
   "id": "78af149e-3722-4b24-aa38-3f7a1cd5dbaf",
   "metadata": {},
   "outputs": [
    {
     "data": {
      "text/html": [
       "\n",
       "        <iframe\n",
       "            width=\"100%\"\n",
       "            height=\"1200\"\n",
       "            src=\"https://observablehq.com/embed/@mauforonda/la-situacion-del-covid-19-en-bolivia?cells=lineplot%2Cviewof+dep%2Cviewof+dataset%2Csubtitle%2Cdeltas%2Ctable\"\n",
       "            frameborder=\"0\"\n",
       "            allowfullscreen\n",
       "        ></iframe>\n",
       "        "
      ],
      "text/plain": [
       "<IPython.lib.display.IFrame at 0x7fafe94c2198>"
      ]
     },
     "metadata": {},
     "output_type": "display_data"
    }
   ],
   "source": [
    "from IPython.display import display, IFrame\n",
    "display(IFrame(src='https://observablehq.com/embed/@mauforonda/la-situacion-del-covid-19-en-bolivia?cells=lineplot%2Cviewof+dep%2Cviewof+dataset%2Csubtitle%2Cdeltas%2Ctable', width=\"100%\", height=\"1200\"))"
   ]
  },
  {
   "cell_type": "markdown",
   "id": "62343a98-df30-49cd-bc05-f6665ff76f14",
   "metadata": {
    "tags": []
   },
   "source": [
    "Fuentes:\n",
    "- Datos de casos y decesos: [UDAPE via Mauricio Foronda](https://github.com/sociedatos/covid19-bo-casos_por_departamento)\n",
    "- Datos de puebas y positividad: [Reportes de SEDES via Gabriel Weise y Mauricio Foronda](https://github.com/sociedatos/covid19-bo-pruebas_por_departamento)\n",
    "- Datos de ocupación de servicios hospitalarios: [via Gabriel Weise](https://github.com/sociedatos/bo-hospitalizados_por_departamento/)\n",
    "- Datos de vacunación: [Reportes del Ministerio de Salud via Gabriel Weise y Mauricio Foronda](https://github.com/sociedatos/covid19-bo-vacunas_por_departamento/blob/master/vaccinations.csv)"
   ]
  }
 ],
 "metadata": {
  "citation-manager": {
   "items": {}
  },
  "kernelspec": {
   "display_name": "Python 3",
   "language": "python",
   "name": "python3"
  },
  "language_info": {
   "codemirror_mode": {
    "name": "ipython",
    "version": 3
   },
   "file_extension": ".py",
   "mimetype": "text/x-python",
   "name": "python",
   "nbconvert_exporter": "python",
   "pygments_lexer": "ipython3",
   "version": "3.6.9"
  },
  "widgets": {
   "application/vnd.jupyter.widget-state+json": {
    "state": {},
    "version_major": 2,
    "version_minor": 0
   }
  }
 },
 "nbformat": 4,
 "nbformat_minor": 5
}
