{
 "cells": [
  {
   "cell_type": "markdown",
   "id": "705e37f7-8411-4f5d-9628-6856f1ec7eca",
   "metadata": {},
   "source": [
    "# Covid-19 en Bolivia"
   ]
  },
  {
   "cell_type": "markdown",
   "id": "93493fdf-5658-461c-bafc-7eb5210720d2",
   "metadata": {},
   "source": [
    "> Un tablero simple con datos que recolectamos sobre el covid-19 por departamento desde el inicio de la pandemia"
   ]
  },
  {
   "cell_type": "code",
   "execution_count": 6,
   "id": "b0c71c2c-bdb6-4764-a450-2b4c4b970416",
   "metadata": {
    "execution": {
     "iopub.execute_input": "2022-07-10T23:11:12.578971Z",
     "iopub.status.busy": "2022-07-10T23:11:12.578158Z",
     "iopub.status.idle": "2022-07-10T23:11:12.591945Z",
     "shell.execute_reply": "2022-07-10T23:11:12.590459Z",
     "shell.execute_reply.started": "2022-07-10T23:11:12.578908Z"
    },
    "tags": []
   },
   "outputs": [
    {
     "data": {
      "text/html": [
       "\n",
       "        <iframe\n",
       "            width=\"100%\"\n",
       "            height=\"3800\"\n",
       "            src=\"https://observablehq.com/embed/@mauforonda/covid-19-en-bolivia?cells=facet_incidence%2Ch1%2Cviewof+since_days%2Cplot_total%2Ch2_1%2Cdl_1%2Ch2_2%2Cviewof+selected_departamento%2Ch3%2Ch4_1%2Cp1%2Ch4_2%2Ch4_3%2Cp2%2Cp3%2Cp4%2Ch4_4%2Cp5%2Cp6%2Cp7%2Cp8%2Ch4_5%2Caplicacion_dosis%2Cdata?frameborder=0\"\n",
       "            frameborder=\"0\"\n",
       "            allowfullscreen\n",
       "            \n",
       "        ></iframe>\n",
       "        "
      ],
      "text/plain": [
       "<IPython.lib.display.IFrame at 0x7f9e2470ee80>"
      ]
     },
     "metadata": {},
     "output_type": "display_data"
    }
   ],
   "source": [
    "from IPython.display import display, IFrame\n",
    "display(IFrame(src=\"https://observablehq.com/embed/@mauforonda/covid-19-en-bolivia?cells=facet_incidence%2Ch1%2Cviewof+since_days%2Cplot_total%2Ch2_1%2Cdl_1%2Ch2_2%2Cviewof+selected_departamento%2Ch3%2Ch4_1%2Cp1%2Ch4_2%2Ch4_3%2Cp2%2Cp3%2Cp4%2Ch4_4%2Cp5%2Cp6%2Cp7%2Cp8%2Ch4_5%2Caplicacion_dosis%2Cdata\", width=\"100%\", height=\"3800\", frameborder=\"0\"))"
   ]
  },
  {
   "cell_type": "markdown",
   "id": "62343a98-df30-49cd-bc05-f6665ff76f14",
   "metadata": {
    "tags": []
   },
   "source": [
    "Fuentes:\n",
    "- Datos de casos y decesos: [UDAPE via Mauricio Foronda](https://github.com/sociedatos/covid19-bo-casos_por_departamento)\n",
    "- Datos de puebas y positividad: [Reportes de SEDES via Gabriel Weise y Mauricio Foronda](https://github.com/sociedatos/covid19-bo-pruebas_por_departamento)\n",
    "- Datos de ocupación de servicios hospitalarios: [via Gabriel Weise](https://github.com/sociedatos/bo-hospitalizados_por_departamento/)\n",
    "- Datos de vacunación: [Reportes del Ministerio de Salud via Gabriel Weise y Mauricio Foronda](https://github.com/sociedatos/covid19-bo-vacunas_por_departamento/blob/master/vaccinations.csv)"
   ]
  }
 ],
 "metadata": {
  "citation-manager": {
   "items": {}
  },
  "kernelspec": {
   "display_name": "Python 3 (ipykernel)",
   "language": "python",
   "name": "python3"
  },
  "language_info": {
   "codemirror_mode": {
    "name": "ipython",
    "version": 3
   },
   "file_extension": ".py",
   "mimetype": "text/x-python",
   "name": "python",
   "nbconvert_exporter": "python",
   "pygments_lexer": "ipython3",
   "version": "3.9.13"
  },
  "widgets": {
   "application/vnd.jupyter.widget-state+json": {
    "state": {},
    "version_major": 2,
    "version_minor": 0
   }
  }
 },
 "nbformat": 4,
 "nbformat_minor": 5
}
